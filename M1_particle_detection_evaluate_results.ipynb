{
 "cells": [
  {
   "cell_type": "code",
   "execution_count": null,
   "metadata": {},
   "outputs": [],
   "source": [
    "######## Particle Detection Using Tensorflow-trained Classifier #########\n",
    "#\n",
    "# Author: Maximilian Dreisbach\n",
    "# Date: 11/05/2022\n",
    "# Description: \n",
    "# This program uses a TensorFlow-trained neural network to perform particle detection.\n",
    "# It loads the object detector and uses it to perform object detection on a set of images.\n",
    "# It draws bounding boxes and the corresponding certainty scores around the particle images \n",
    "#in the recordings and exports the detected labels to .mat files.\n",
    "\n",
    "## The code is an extension of the tutorial by Evan Juras [1] and the Tensorflow object detection tutorial [2]\n",
    "#[1] https://github.com/EdjeElectronics/TensorFlow-Object-Detection-API-Tutorial-Train-Multiple-Objects-Windows-10\n",
    "#[2] https://github.com/tensorflow/models/blob/master/research/object_detection/colab_tutorials/object_detection_tutorial.ipynb"
   ]
  },
  {
   "cell_type": "code",
   "execution_count": null,
   "metadata": {},
   "outputs": [],
   "source": [
    "# Import packages\n",
    "import os\n",
    "import pathlib\n",
    "import cv2\n",
    "import numpy as np\n",
    "import tensorflow as tf\n",
    "import sys\n",
    "from PIL import Image\n",
    "import xlsxwriter\n",
    "import pandas as pd\n",
    "import scipy.io as sio"
   ]
  },
  {
   "cell_type": "code",
   "execution_count": null,
   "metadata": {},
   "outputs": [],
   "source": [
    "# This is needed since the notebook is stored in the object_detection folder.\n",
    "sys.path.append(\"..\")\n",
    "# Grab path to current working directory\n",
    "CWD_PATH = os.getcwd()"
   ]
  },
  {
   "cell_type": "code",
   "execution_count": null,
   "metadata": {},
   "outputs": [],
   "source": [
    "# Import utilites\n",
    "from utils import label_map_util\n",
    "from utils import visualization_utils as vis_util\n",
    "\n",
    "from object_detection.utils.metrics import compute_precision_recall\n",
    "\n",
    "# Name of the directory containing the trained particle detector\n",
    "MODEL_NAME = 'inference_graph'\n",
    "\n",
    "# Path to frozen detection graph .pb file, which contains the model that is used\n",
    "# for object detection.\n",
    "PATH_TO_CKPT = os.path.join(CWD_PATH,MODEL_NAME,'frozen_inference_graph.pb')\n",
    "\n",
    "# Path to label map file\n",
    "PATH_TO_LABELS = os.path.join(CWD_PATH,'training','labelmap.pbtxt')"
   ]
  },
  {
   "cell_type": "code",
   "execution_count": null,
   "metadata": {},
   "outputs": [],
   "source": [
    "# Path to test images\n",
    "PATH_TO_TEST_IMAGES_DIR = pathlib.Path('images/test')\n",
    "TEST_IMAGE_PATHS = sorted(list(PATH_TO_TEST_IMAGES_DIR.glob(\"*.jpg\")))"
   ]
  },
  {
   "cell_type": "code",
   "execution_count": null,
   "metadata": {},
   "outputs": [],
   "source": [
    "# Certainty score threshold for acceptable detections (network dependent)\n",
    "SCORE_THRESH = 0.8 \n",
    "# Number of detection results to show\n",
    "num_imageshow = 5 \n",
    "# Number of classes the particle detector can identify (particle = 1, background = 0)\n",
    "NUM_CLASSES = 1"
   ]
  },
  {
   "cell_type": "code",
   "execution_count": null,
   "metadata": {},
   "outputs": [],
   "source": [
    "# Load the label map.\n",
    "label_map = label_map_util.load_labelmap(PATH_TO_LABELS)\n",
    "categories = label_map_util.convert_label_map_to_categories(label_map, max_num_classes=NUM_CLASSES, use_display_name=True)\n",
    "category_index = label_map_util.create_category_index(categories)"
   ]
  },
  {
   "cell_type": "code",
   "execution_count": null,
   "metadata": {},
   "outputs": [],
   "source": [
    "# Load the Tensorflow model into memory.\n",
    "detection_graph = tf.Graph()\n",
    "with detection_graph.as_default():\n",
    "    od_graph_def = tf.GraphDef()\n",
    "    with tf.gfile.GFile(PATH_TO_CKPT, 'rb') as fid:\n",
    "        serialized_graph = fid.read()\n",
    "        od_graph_def.ParseFromString(serialized_graph)\n",
    "        tf.import_graph_def(od_graph_def, name='')\n",
    "\n",
    "    sess = tf.Session(graph=detection_graph)"
   ]
  },
  {
   "cell_type": "code",
   "execution_count": null,
   "metadata": {},
   "outputs": [],
   "source": [
    "# Define input and output tensors (i.e. data) for the object detection classifier\n",
    "\n",
    "# Input tensor is the image\n",
    "image_tensor = detection_graph.get_tensor_by_name('image_tensor:0')\n",
    "\n",
    "# Output tensors are the detection boxes, scores, and classes\n",
    "# Each box represents a part of the image where a particular object was detected\n",
    "detection_boxes = detection_graph.get_tensor_by_name('detection_boxes:0')\n",
    "\n",
    "# Each score represents level of confidence for each of the objects.\n",
    "# The score is shown on the result image, together with the class label.\n",
    "detection_scores = detection_graph.get_tensor_by_name('detection_scores:0')\n",
    "detection_classes = detection_graph.get_tensor_by_name('detection_classes:0')\n",
    "\n",
    "# Number of objects detected\n",
    "num_detections = detection_graph.get_tensor_by_name('num_detections:0')\n",
    "\n",
    "# name of the detection data output file\n",
    "output_boxes_fname = 'boxes_output'\n",
    "output_scores_fname = 'scores_output'"
   ]
  },
  {
   "cell_type": "code",
   "execution_count": null,
   "metadata": {
    "scrolled": true
   },
   "outputs": [],
   "source": [
    "# Detection\n",
    "for image_path in TEST_IMAGE_PATHS:\n",
    "    with detection_graph.as_default():\n",
    "        with tf.compat.v1.Session(graph=detection_graph) as sess:\n",
    "            image_np = np.array(Image.open(image_path))\n",
    "            image_rgb = cv2.cvtColor(image_np, cv2.COLOR_BGR2RGB)\n",
    "            image_expanded = np.expand_dims(image_rgb, axis=0)\n",
    "\n",
    "            # Expand dimensions since the model expects images to have shape: [1, None, None, 3]\n",
    "            image_np_expanded = np.expand_dims(image_np, axis=0)\n",
    "            # Extract image tensor\n",
    "            image_tensor = detection_graph.get_tensor_by_name('image_tensor:0')\n",
    "            boxes = detection_graph.get_tensor_by_name('detection_boxes:0')\n",
    "            scores = detection_graph.get_tensor_by_name('detection_scores:0')\n",
    "            classes = detection_graph.get_tensor_by_name('detection_classes:0')\n",
    "            num_detections = detection_graph.get_tensor_by_name(\n",
    "                'num_detections:0')\n",
    "            \n",
    "            # Actual detection.\n",
    "            (boxes, scores, classes, num_detections) = sess.run(\n",
    "                [boxes, scores, classes, num_detections],\n",
    "                feed_dict={image_tensor: image_expanded})\n",
    "                \n",
    "            #Storing detection results\n",
    "            coordinates = vis_util.return_coordinates(\n",
    "                    image_rgb,\n",
    "                    np.squeeze(boxes),\n",
    "                    np.squeeze(classes).astype(np.int32),\n",
    "                    np.squeeze(scores),\n",
    "                    category_index,\n",
    "                    use_normalized_coordinates=True,\n",
    "                    line_thickness=8,\n",
    "                    min_score_thresh=SCORE_THRESH)\n",
    "\n",
    "            # save bounding box vector to .mat\n",
    "            impath = \"{}\".format(image_path)\n",
    "            matfile_name = \"detection_results/\"+output_boxes_fname+\"_{}.mat\".format(impath[12:-4])             \n",
    "            sio.savemat(matfile_name, {'vect':coordinates})\n",
    "\n",
    "            # save certainty scores vector to .mat\n",
    "            #matfile_name = \"detection_results/\"+output_scores_fname+\"_{}.mat\".format(impath[12:-4])             \n",
    "            #sio.savemat(matfile_name, {'vect':scores})\n",
    "\n",
    "            status = \"processing: {}\".format(image_path)\n",
    "            print(status)\n",
    "                \n",
    "            #Visualization of the results of a detection.    \n",
    "            for i in range(num_imageshow):\n",
    "                vis_util.visualize_boxes_and_labels_on_image_array(\n",
    "                    image_rgb,\n",
    "                    np.squeeze(boxes),\n",
    "                    np.squeeze(classes).astype(np.int32),\n",
    "                    np.squeeze(scores),\n",
    "                    category_index,\n",
    "                    use_normalized_coordinates=True,\n",
    "                    line_thickness=4,\n",
    "                    min_score_thresh=SCORE_THRESH)\n",
    "                # Display output\n",
    "                title = \"object detection: {}\".format(image_path)\n",
    "\n",
    "                cv2.imshow(title, cv2.resize(image_rgb, (600, 600)))\n",
    "                if cv2.waitKey(10) & 0xFF == ord('q'):\n",
    "                    cv2.destroyAllWindows()\n",
    "                    break\n",
    "\n",
    "        if cv2.waitKey(25) & 0xFF == ord('e'):\n",
    "            break    \n",
    " "
   ]
  }
 ],
 "metadata": {
  "kernelspec": {
   "display_name": "gpukernel",
   "language": "python",
   "name": "gpukernel"
  },
  "language_info": {
   "codemirror_mode": {
    "name": "ipython",
    "version": 3
   },
   "file_extension": ".py",
   "mimetype": "text/x-python",
   "name": "python",
   "nbconvert_exporter": "python",
   "pygments_lexer": "ipython3",
   "version": "3.7.13"
  },
  "varInspector": {
   "cols": {
    "lenName": 16,
    "lenType": 16,
    "lenVar": 40
   },
   "kernels_config": {
    "python": {
     "delete_cmd_postfix": "",
     "delete_cmd_prefix": "del ",
     "library": "var_list.py",
     "varRefreshCmd": "print(var_dic_list())"
    },
    "r": {
     "delete_cmd_postfix": ") ",
     "delete_cmd_prefix": "rm(",
     "library": "var_list.r",
     "varRefreshCmd": "cat(var_dic_list()) "
    }
   },
   "oldHeight": 509,
   "position": {
    "height": "597.4px",
    "left": "664px",
    "right": "20px",
    "top": "20px",
    "width": "800px"
   },
   "types_to_exclude": [
    "module",
    "function",
    "builtin_function_or_method",
    "instance",
    "_Feature"
   ],
   "varInspector_section_display": "block",
   "window_display": false
  }
 },
 "nbformat": 4,
 "nbformat_minor": 4
}
